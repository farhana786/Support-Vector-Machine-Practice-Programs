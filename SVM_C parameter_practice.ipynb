{
 "cells": [
  {
   "cell_type": "code",
   "execution_count": 21,
   "id": "747499c7",
   "metadata": {},
   "outputs": [],
   "source": [
    "#Importing data analysis libraries\n",
    "import pandas as pd\n",
    "import numpy as np\n",
    "import matplotlib.pyplot as plt\n",
    "%matplotlib inline\n",
    "\n",
    "#Imporing sklearn module and classes\n",
    "from sklearn.svm import SVC\n",
    "from sklearn.preprocessing import StandardScaler\n",
    "from sklearn.model_selection import train_test_split\n",
    "from sklearn import metrics\n",
    "from sklearn import datasets"
   ]
  },
  {
   "cell_type": "code",
   "execution_count": 22,
   "id": "000f3768",
   "metadata": {},
   "outputs": [
    {
     "data": {
      "text/plain": [
       "['data',\n",
       " 'target',\n",
       " 'frame',\n",
       " 'target_names',\n",
       " 'DESCR',\n",
       " 'feature_names',\n",
       " 'filename']"
      ]
     },
     "execution_count": 22,
     "metadata": {},
     "output_type": "execute_result"
    }
   ],
   "source": [
    "#Load IRIS dataset\n",
    "iris = datasets.load_iris()\n",
    "list(iris)"
   ]
  },
  {
   "cell_type": "code",
   "execution_count": 23,
   "id": "541980a8",
   "metadata": {},
   "outputs": [],
   "source": [
    "X = iris.data\n",
    "y = iris.target"
   ]
  },
  {
   "cell_type": "code",
   "execution_count": 24,
   "id": "02e0703c",
   "metadata": {},
   "outputs": [],
   "source": [
    "#Creating training and testing dataset split\n",
    "X_train, X_test, y_train, y_test = train_test_split(X, y, test_size = 0.3, random_state = 1, stratify = y)"
   ]
  },
  {
   "cell_type": "code",
   "execution_count": 25,
   "id": "a281605c",
   "metadata": {},
   "outputs": [],
   "source": [
    "#Feature scaling to make sure that data for different features are in the same range\n",
    "sc = StandardScaler()\n",
    "sc.fit(X_train)\n",
    "X_train_std = sc.transform(X_train)\n",
    "X_test_std = sc.transform(X_test)"
   ]
  },
  {
   "cell_type": "code",
   "execution_count": 20,
   "id": "ff3242f9",
   "metadata": {},
   "outputs": [
    {
     "data": {
      "text/plain": [
       "SVC(C=0.01, kernel='linear', random_state=1)"
      ]
     },
     "execution_count": 20,
     "metadata": {},
     "output_type": "execute_result"
    }
   ],
   "source": [
    "#Train the model using C parameter value 0.01\n",
    "svm = SVC(kernel='linear' , random_state=1, C=0.01)\n",
    "svm.fit(X_train_std, y_train)"
   ]
  },
  {
   "cell_type": "code",
   "execution_count": 7,
   "id": "c3adea42",
   "metadata": {},
   "outputs": [
    {
     "name": "stdout",
     "output_type": "stream",
     "text": [
      "Accuracy score   1\n"
     ]
    }
   ],
   "source": [
    "#Measure accuracy score\n",
    "y_predict = svm.predict(X_test_std)\n",
    "print(\"Accuracy score %3.f\" %metrics.accuracy_score(y_test, y_predict))"
   ]
  },
  {
   "cell_type": "code",
   "execution_count": 8,
   "id": "62e7c157",
   "metadata": {},
   "outputs": [
    {
     "name": "stdout",
     "output_type": "stream",
     "text": [
      "Accuracy score   1\n"
     ]
    }
   ],
   "source": [
    "#Train the model using C parameter value 0.02\n",
    "svm = SVC(kernel='linear' , random_state=1, C=0.02)\n",
    "svm.fit(X_train_std, y_train)\n",
    "#Measure accuracy score\n",
    "y_predict = svm.predict(X_test_std)\n",
    "print(\"Accuracy score %3.f\" %metrics.accuracy_score(y_test, y_predict))"
   ]
  },
  {
   "cell_type": "code",
   "execution_count": 9,
   "id": "c575d971",
   "metadata": {},
   "outputs": [
    {
     "name": "stdout",
     "output_type": "stream",
     "text": [
      "Accuracy score   1\n"
     ]
    }
   ],
   "source": [
    "#Train the model using C parameter value 0.03\n",
    "svm = SVC(kernel='linear' , random_state=1, C=0.03)\n",
    "svm.fit(X_train_std, y_train)\n",
    "#Measure accuracy score\n",
    "y_predict = svm.predict(X_test_std)\n",
    "print(\"Accuracy score %3.f\" %metrics.accuracy_score(y_test, y_predict))"
   ]
  },
  {
   "cell_type": "code",
   "execution_count": 10,
   "id": "3912ba7f",
   "metadata": {},
   "outputs": [
    {
     "name": "stdout",
     "output_type": "stream",
     "text": [
      "Accuracy score   1\n"
     ]
    }
   ],
   "source": [
    "#Train the model using C parameter value 0.1\n",
    "svm = SVC(kernel='linear' , random_state=1, C=0.1)\n",
    "svm.fit(X_train_std, y_train)\n",
    "#Measure accuracy score\n",
    "y_predict = svm.predict(X_test_std)\n",
    "print(\"Accuracy score %3.f\" %metrics.accuracy_score(y_test, y_predict))"
   ]
  },
  {
   "cell_type": "code",
   "execution_count": 11,
   "id": "04d6a5d1",
   "metadata": {},
   "outputs": [
    {
     "name": "stdout",
     "output_type": "stream",
     "text": [
      "Accuracy score   1\n"
     ]
    }
   ],
   "source": [
    "#Train the model using C parameter value 0.2\n",
    "svm = SVC(kernel='linear' , random_state=1, C=0.2)\n",
    "svm.fit(X_train_std, y_train)\n",
    "#Measure accuracy score\n",
    "y_predict = svm.predict(X_test_std)\n",
    "print(\"Accuracy score %3.f\" %metrics.accuracy_score(y_test, y_predict))"
   ]
  },
  {
   "cell_type": "code",
   "execution_count": 12,
   "id": "880c131c",
   "metadata": {},
   "outputs": [
    {
     "name": "stdout",
     "output_type": "stream",
     "text": [
      "Accuracy score   1\n"
     ]
    }
   ],
   "source": [
    "#Train the model using C parameter value 1\n",
    "svm = SVC(kernel='linear' , random_state=1, C=1)\n",
    "svm.fit(X_train_std, y_train)\n",
    "#Measure accuracy score\n",
    "y_predict = svm.predict(X_test_std)\n",
    "print(\"Accuracy score %3.f\" %metrics.accuracy_score(y_test, y_predict))"
   ]
  },
  {
   "cell_type": "code",
   "execution_count": 13,
   "id": "2643c45f",
   "metadata": {},
   "outputs": [
    {
     "name": "stdout",
     "output_type": "stream",
     "text": [
      "Accuracy score   1\n"
     ]
    }
   ],
   "source": [
    "#Train the model using C parameter value 10\n",
    "svm = SVC(kernel='linear' , random_state=1, C=0.10)\n",
    "svm.fit(X_train_std, y_train)\n",
    "#Measure accuracy score\n",
    "y_predict = svm.predict(X_test_std)\n",
    "print(\"Accuracy score %3.f\" %metrics.accuracy_score(y_test, y_predict))"
   ]
  },
  {
   "cell_type": "code",
   "execution_count": 26,
   "id": "cc773c0c",
   "metadata": {},
   "outputs": [
    {
     "name": "stdout",
     "output_type": "stream",
     "text": [
      "Accuracy score   1\n"
     ]
    }
   ],
   "source": [
    "#Train the model using C parameter value 100\n",
    "svm = SVC(kernel='linear' , random_state=1, C=100)\n",
    "svm.fit(X_train_std, y_train)\n",
    "#Measure accuracy score\n",
    "y_predict = svm.predict(X_test_std)\n",
    "print(\"Accuracy score %3.f\" %metrics.accuracy_score(y_test, y_predict))"
   ]
  },
  {
   "cell_type": "code",
   "execution_count": null,
   "id": "a7c5b9b4",
   "metadata": {},
   "outputs": [],
   "source": []
  }
 ],
 "metadata": {
  "kernelspec": {
   "display_name": "Python 3",
   "language": "python",
   "name": "python3"
  },
  "language_info": {
   "codemirror_mode": {
    "name": "ipython",
    "version": 3
   },
   "file_extension": ".py",
   "mimetype": "text/x-python",
   "name": "python",
   "nbconvert_exporter": "python",
   "pygments_lexer": "ipython3",
   "version": "3.8.8"
  }
 },
 "nbformat": 4,
 "nbformat_minor": 5
}
